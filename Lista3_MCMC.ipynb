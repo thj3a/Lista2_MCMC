{
  "nbformat": 4,
  "nbformat_minor": 0,
  "metadata": {
    "colab": {
      "name": "MCMC_Lista3.ipynb",
      "provenance": [],
      "authorship_tag": "ABX9TyOzCLmUoHbmBdxnoXlsF8tf"
    },
    "kernelspec": {
      "name": "python3",
      "display_name": "Python 3"
    },
    "language_info": {
      "name": "python"
    }
  },
  "cells": [
    {
      "cell_type": "code",
      "source": [
        "import numpy as np\n",
        "import scipy as sp\n",
        "import math\n",
        "import matplotlib.pyplot as plt\n"
      ],
      "metadata": {
        "id": "7sOK8ipLtMzy"
      },
      "execution_count": 1,
      "outputs": []
    },
    {
      "cell_type": "markdown",
      "source": [
        "# Questão 2"
      ],
      "metadata": {
        "id": "xeypBZluxMBV"
      }
    },
    {
      "cell_type": "code",
      "source": [
        "def monta_matriz_P_grafo_anel(n,p):\n",
        "  P = np.zeros((n,n))\n",
        "  for i in range(-1, n-1):\n",
        "    P[i][i] = p\n",
        "    P[i][i+1] = p/2\n",
        "    P[i][i-1] = p/2\n",
        "  return P"
      ],
      "metadata": {
        "id": "t1g4DceqxAYw"
      },
      "execution_count": 2,
      "outputs": []
    },
    {
      "cell_type": "code",
      "source": [
        "def monta_matriz_P_grafo_arvore(n,p):\n",
        "  P = np.zeros((n,n))\n",
        "  P[0][0] = p\n",
        "  P[0][1] = p/2\n",
        "  P[0][2] = p/2\n",
        "  for i in range(1,n):\n",
        "    P[i][i] = p\n",
        "    if i<(n-1)/2:\n",
        "        P[i][2*i] = p/3\n",
        "        P[i][2*i+1] = p/3\n",
        "        P[i][int((i-1)/2)] = p/3\n",
        "    else:\n",
        "        P[i][int((i-1)/2)] = p\n",
        "  return P"
      ],
      "metadata": {
        "id": "r6XCgYt1zZH7"
      },
      "execution_count": 3,
      "outputs": []
    },
    {
      "cell_type": "code",
      "source": [
        "def monta_matriz_P_grafo_grid(n,p):\n",
        "  P_grid = np.zeros((n,n))\n",
        "  for i in range(10):\n",
        "    for j in range(10):\n",
        "        P_grid[i*10+j][i*10+j] = 0.5\n",
        "        if i == 0 and j != 0 and j != 9:\n",
        "            P_grid[i*10+j][i*10+j+1] = 1/6\n",
        "            P_grid[i*10+j][i*10+j-1] = 1/6\n",
        "            P_grid[i*10+j][(i+1)*10+j] = 1/6\n",
        "        elif i == 9 and j != 0 and j != 9:\n",
        "            P_grid[i*10+j][i*10+j+1] = 1/6\n",
        "            P_grid[i*10+j][i*10+j-1] = 1/6\n",
        "            P_grid[i*10+j][(i-1)*10+j] = 1/6\n",
        "        elif j == 0 and i != 0 and i != 9:\n",
        "            P_grid[i*10+j][i*10+j+1] = 1/6\n",
        "            P_grid[i*10+j][(i+1)*10+j] = 1/6\n",
        "            P_grid[i*10+j][(i-1)*10+j] = 1/6\n",
        "        elif j == 9 and i != 0 and i != 9:\n",
        "            P_grid[i*10+j][i*10+j-1] = 1/6\n",
        "            P_grid[i*10+j][(i+1)*10+j] = 1/6\n",
        "            P_grid[i*10+j][(i-1)*10+j] = 1/6\n",
        "        elif i == 0 and j == 0:\n",
        "            P_grid[i*10+j][i*10+j+1] = 0.25\n",
        "            P_grid[i*10+j][(i+1)*10+j] = 0.25\n",
        "        elif i == 0 and j == 9:\n",
        "            P_grid[i*10+j][i*10+j-1] = 0.25\n",
        "            P_grid[i*10+j][(i+1)*10+j] = 0.25\n",
        "        elif i == 9 and j == 9:\n",
        "            P_grid[i*10+j][i*10+j-1] = 0.25\n",
        "            P_grid[i*10+j][(i-1)*10+j] = 0.25\n",
        "        elif i == 9 and j == 0:\n",
        "            P_grid[i*10+j][i*10+j+1] = 0.25\n",
        "            P_grid[i*10+j][(i-1)*10+j] = 0.25\n",
        "        else:\n",
        "            P_grid[i*10+j][(i-1)*10+j] = 1/8\n",
        "            P_grid[i*10+j][i*10+j+1] = 1/8\n",
        "            P_grid[i*10+j][(i+1)*10+j]  = 1/8\n",
        "            P_grid[i*10+j][i*10+j-1] = 1/8\n",
        "    return P_grid"
      ],
      "metadata": {
        "id": "yq6Um0xHv-iI"
      },
      "execution_count": 4,
      "outputs": []
    },
    {
      "cell_type": "code",
      "source": [
        "def monta_matriz_P_grafo_grid(n,p):\n",
        "  matriz_P = np.zeros((n,n))\n",
        "  d = int(math.sqrt(n))\n",
        "  lim=d-1\n",
        "  for col in range(d):\n",
        "    for lin in range(d):\n",
        "      matriz_P[col*d+lin][col*d+lin] = p\n",
        "      if col == 0 and lin == 0:\n",
        "        k=2\n",
        "        matriz_P[col*d+lin][(col+1)*d+lin] = p/k\n",
        "        matriz_P[col*d+lin][(lin+1)+col*d] = p/k\n",
        "      elif col == 0 and lin == lim:\n",
        "        k=2\n",
        "        matriz_P[col*d+lin][(col+1)*d+lin] = p/k\n",
        "        matriz_P[col*d+lin][(lin-1)+col*d] = p/k\n",
        "      elif col == lim and lin == 0:\n",
        "        k=2\n",
        "        matriz_P[col*d+lin][(col-1)*d+lin]  = p/k\n",
        "        matriz_P[col*d+lin][(lin+1)+col*d] = p/k\n",
        "      elif col == lim and lin == lim:\n",
        "        k=2\n",
        "        matriz_P[col*d+lin][(col-1)*d+lin]  = p/k\n",
        "        matriz_P[col*d+lin][(lin-1)+col*d] = p/k\n",
        "      elif col == 0 and lin > 0 and lin < lim:\n",
        "        k=3\n",
        "        matriz_P[col*d+lin][(col+1)*d+lin] = p/k\n",
        "        matriz_P[col*d+lin][(lin+1)+col*d] = p/k\n",
        "        matriz_P[col*d+lin][(lin-1)+col*d] = p/k\n",
        "      elif col == lim and lin > 0 and lin < lim:\n",
        "        k=3\n",
        "        matriz_P[col*d+lin][(col-1)*d+lin]  = p/k\n",
        "        matriz_P[col*d+lin][(lin+1)+col*d] = p/k\n",
        "        matriz_P[col*d+lin][(lin-1)+col*d] = p/k\n",
        "      elif lin == 0 and col > 0 and col < lim:\n",
        "        k=3\n",
        "        matriz_P[col*d+lin][(col+1)*d+lin] = p/k\n",
        "        matriz_P[col*d+lin][(col-1)*d+lin]  = p/k\n",
        "        matriz_P[col*d+lin][(lin+1)+col*d] = p/k\n",
        "      elif lin == lim and col > 0 and col < lim:\n",
        "        k=3\n",
        "        matriz_P[col*d+lin][(col+1)*d+lin] = p/k\n",
        "        matriz_P[col*d+lin][(col-1)*d+lin]  = p/k\n",
        "        matriz_P[col*d+lin][(lin-1)+col*d] = p/k\n",
        "      else:\n",
        "        k=4\n",
        "        matriz_P[col*d+lin][(col+1)*d+lin] = p/k\n",
        "        matriz_P[col*d+lin][(col-1)*d+lin]  = p/k\n",
        "        matriz_P[col*d+lin][(lin+1)+col*d] = p/k\n",
        "        matriz_P[col*d+lin][(lin-1)+col*d] = p/k\n",
        "  return matriz_P"
      ],
      "metadata": {
        "id": "GcoJiY8Q_1-3"
      },
      "execution_count": 5,
      "outputs": []
    },
    {
      "cell_type": "code",
      "source": [
        "#definição de parâmetros\n",
        "t_passos=10**3\n",
        "n=100\n",
        "p=1/2"
      ],
      "metadata": {
        "id": "DMpmSgM8iEqv"
      },
      "execution_count": 6,
      "outputs": []
    },
    {
      "cell_type": "code",
      "source": [
        "# construção das matrizes de transição P para os grafos em anel, arvore binaria cheia e grid2d\n",
        "matriz_P_anel = monta_matriz_P_grafo_anel(n, p)\n",
        "matriz_P_arvore = monta_matriz_P_grafo_arvore(n, p)\n",
        "matriz_P_grid = monta_matriz_P_grafo_grid(n,p)\n",
        "\n",
        "print(\"Matriz do grafo em anel: \\n\", matriz_P_anel, \"\\n\\n\", \n",
        "      \"Matriz do grafo em arvore binária cheia: \\n\", matriz_P_arvore, \"\\n\\n\", \n",
        "      \"Matriz do grafo em grid2D: \\n\", matriz_P_grid,\"\\n\\n\")"
      ],
      "metadata": {
        "id": "yhi7CXFpa2u1",
        "colab": {
          "base_uri": "https://localhost:8080/"
        },
        "outputId": "4fedd1ed-e2c5-45d3-9611-9bb0bf4d2e45"
      },
      "execution_count": 7,
      "outputs": [
        {
          "output_type": "stream",
          "name": "stdout",
          "text": [
            "Matriz do grafo em anel: \n",
            " [[0.5  0.25 0.   ... 0.   0.   0.25]\n",
            " [0.25 0.5  0.25 ... 0.   0.   0.  ]\n",
            " [0.   0.25 0.5  ... 0.   0.   0.  ]\n",
            " ...\n",
            " [0.   0.   0.   ... 0.5  0.25 0.  ]\n",
            " [0.   0.   0.   ... 0.25 0.5  0.25]\n",
            " [0.25 0.   0.   ... 0.   0.25 0.5 ]] \n",
            "\n",
            " Matriz do grafo em arvore binária cheia: \n",
            " [[0.5        0.25       0.25       ... 0.         0.         0.        ]\n",
            " [0.16666667 0.5        0.16666667 ... 0.         0.         0.        ]\n",
            " [0.16666667 0.         0.5        ... 0.         0.         0.        ]\n",
            " ...\n",
            " [0.         0.         0.         ... 0.5        0.         0.        ]\n",
            " [0.         0.         0.         ... 0.         0.5        0.        ]\n",
            " [0.         0.         0.         ... 0.         0.         0.5       ]] \n",
            "\n",
            " Matriz do grafo em grid2D: \n",
            " [[0.5        0.25       0.         ... 0.         0.         0.        ]\n",
            " [0.16666667 0.5        0.16666667 ... 0.         0.         0.        ]\n",
            " [0.         0.16666667 0.5        ... 0.         0.         0.        ]\n",
            " ...\n",
            " [0.         0.         0.         ... 0.5        0.16666667 0.        ]\n",
            " [0.         0.         0.         ... 0.16666667 0.5        0.16666667]\n",
            " [0.         0.         0.         ... 0.         0.25       0.5       ]] \n",
            "\n",
            "\n"
          ]
        }
      ]
    },
    {
      "cell_type": "code",
      "source": [
        "# determinação da distribuição estacionária pi para cada grafo\n",
        "def computar_pi(M): # computa a distribuição estacionária e o vão espectral para uma dada matriz P\n",
        "    autovalores,autovetores = np.linalg.eig(M.T)\n",
        "    posicao_lambda_1 = np.argmax(autovalores)\n",
        "    lambda_1 = np.real(autovetores[:,posicao_lambda_1])\n",
        "    pi = lambda_1/np.sum(lambda_1)\n",
        "    return pi\n",
        "\n",
        "pi_anel = computar_pi(matriz_P_anel)\n",
        "pi_arvore = computar_pi(matriz_P_arvore)\n",
        "pi_grid = computar_pi(matriz_P_grid)\n",
        "\n",
        "print(\"Distribuição estacionária do grafo em anel: \\n\", pi_anel, \"\\n\\n\", \n",
        "      \"Distribuição estacionária do grafo em arvore binária cheia: \\n\", pi_arvore, \"\\n\\n\", \n",
        "      \"Distribuição estacionária do grafo em grid2D: \\n\", pi_grid,\"\\n\\n\")\n"
      ],
      "metadata": {
        "id": "0hlmQRaBa54V",
        "colab": {
          "base_uri": "https://localhost:8080/"
        },
        "outputId": "2a4e1d91-716c-440f-eee9-a7f4174a52a4"
      },
      "execution_count": 8,
      "outputs": [
        {
          "output_type": "stream",
          "name": "stdout",
          "text": [
            "Distribuição estacionária do grafo em anel: \n",
            " [0.01 0.01 0.01 0.01 0.01 0.01 0.01 0.01 0.01 0.01 0.01 0.01 0.01 0.01\n",
            " 0.01 0.01 0.01 0.01 0.01 0.01 0.01 0.01 0.01 0.01 0.01 0.01 0.01 0.01\n",
            " 0.01 0.01 0.01 0.01 0.01 0.01 0.01 0.01 0.01 0.01 0.01 0.01 0.01 0.01\n",
            " 0.01 0.01 0.01 0.01 0.01 0.01 0.01 0.01 0.01 0.01 0.01 0.01 0.01 0.01\n",
            " 0.01 0.01 0.01 0.01 0.01 0.01 0.01 0.01 0.01 0.01 0.01 0.01 0.01 0.01\n",
            " 0.01 0.01 0.01 0.01 0.01 0.01 0.01 0.01 0.01 0.01 0.01 0.01 0.01 0.01\n",
            " 0.01 0.01 0.01 0.01 0.01 0.01 0.01 0.01 0.01 0.01 0.01 0.01 0.01 0.01\n",
            " 0.01 0.01] \n",
            "\n",
            " Distribuição estacionária do grafo em arvore binária cheia: \n",
            " [0.01567099 0.02027494 0.02673803 0.01793127 0.01938705 0.01945603\n",
            " 0.01697664 0.01674468 0.01677419 0.01610992 0.01531321 0.01491903\n",
            " 0.01671104 0.01659721 0.01640145 0.01625435 0.01604843 0.01573738\n",
            " 0.01519814 0.01480738 0.01413533 0.01363053 0.01285306 0.01196765\n",
            " 0.01333341 0.0166225  0.01653397 0.01647073 0.01634425 0.01628704\n",
            " 0.01617263 0.01609091 0.01592747 0.0158065  0.01556458 0.01539178\n",
            " 0.01504618 0.01489421 0.01459029 0.0143732  0.01393902 0.0137427\n",
            " 0.01335008 0.01306963 0.01250874 0.01216441 0.01147575 0.01098386\n",
            " 0.01000006 0.00666671 0.00554083 0.00554083 0.00551132 0.00551132\n",
            " 0.00549024 0.00549024 0.00544808 0.00544808 0.00542901 0.00542901\n",
            " 0.00539088 0.00539088 0.00536364 0.00536364 0.00530916 0.00530916\n",
            " 0.00526883 0.00526883 0.00518819 0.00518819 0.00513059 0.00513059\n",
            " 0.00501539 0.00501539 0.00496474 0.00496474 0.00486343 0.00486343\n",
            " 0.00479107 0.00479107 0.00464634 0.00464634 0.0045809  0.0045809\n",
            " 0.00445003 0.00445003 0.00435654 0.00435654 0.00416958 0.00416958\n",
            " 0.0040548  0.0040548  0.00382525 0.00382525 0.00366129 0.00366129\n",
            " 0.00333335 0.00333335 0.00222224 0.00222224] \n",
            "\n",
            " Distribuição estacionária do grafo em grid2D: \n",
            " [0.00555556 0.00833333 0.00833333 0.00833333 0.00833333 0.00833333\n",
            " 0.00833333 0.00833333 0.00833333 0.00555556 0.00833333 0.01111111\n",
            " 0.01111111 0.01111111 0.01111111 0.01111111 0.01111111 0.01111111\n",
            " 0.01111111 0.00833333 0.00833333 0.01111111 0.01111111 0.01111111\n",
            " 0.01111111 0.01111111 0.01111111 0.01111111 0.01111111 0.00833333\n",
            " 0.00833333 0.01111111 0.01111111 0.01111111 0.01111111 0.01111111\n",
            " 0.01111111 0.01111111 0.01111111 0.00833333 0.00833333 0.01111111\n",
            " 0.01111111 0.01111111 0.01111111 0.01111111 0.01111111 0.01111111\n",
            " 0.01111111 0.00833333 0.00833333 0.01111111 0.01111111 0.01111111\n",
            " 0.01111111 0.01111111 0.01111111 0.01111111 0.01111111 0.00833333\n",
            " 0.00833333 0.01111111 0.01111111 0.01111111 0.01111111 0.01111111\n",
            " 0.01111111 0.01111111 0.01111111 0.00833333 0.00833333 0.01111111\n",
            " 0.01111111 0.01111111 0.01111111 0.01111111 0.01111111 0.01111111\n",
            " 0.01111111 0.00833333 0.00833333 0.01111111 0.01111111 0.01111111\n",
            " 0.01111111 0.01111111 0.01111111 0.01111111 0.01111111 0.00833333\n",
            " 0.00555556 0.00833333 0.00833333 0.00833333 0.00833333 0.00833333\n",
            " 0.00833333 0.00833333 0.00833333 0.00555556] \n",
            "\n",
            "\n"
          ]
        }
      ]
    },
    {
      "cell_type": "code",
      "source": [
        "# passeio aleatório com t passos para cada grafo\n",
        "\n",
        "def passeio_markov_chain(matriz_P, t_passos):\n",
        "  pi_zero = np.zeros(n)\n",
        "  pi_zero[0] = 1\n",
        "  M_pi = []\n",
        "  M_pi.append(pi_zero)\n",
        "  for t in range(t_passos):\n",
        "    M_pi = np.append(M_pi, [M_pi[t-1]]@matriz_P, axis=0)\n",
        "  print(M_pi)\n",
        "  return M_pi\n",
        "\n",
        "passeio_anel = passeio_markov_chain(matriz_P_anel, t_passos)\n",
        "passeio_arvore = passeio_markov_chain(matriz_P_arvore, t_passos)\n",
        "passeio_grid = passeio_markov_chain(matriz_P_grid, t_passos)"
      ],
      "metadata": {
        "id": "LFAQxYrKcgue",
        "colab": {
          "base_uri": "https://localhost:8080/"
        },
        "outputId": "e14bde24-b536-4696-e1af-3d41c8bc6d6d"
      },
      "execution_count": 9,
      "outputs": [
        {
          "output_type": "stream",
          "name": "stdout",
          "text": [
            "[[1.         0.         0.         ... 0.         0.         0.        ]\n",
            " [0.5        0.25       0.         ... 0.         0.         0.25      ]\n",
            " [0.5        0.25       0.         ... 0.         0.         0.25      ]\n",
            " ...\n",
            " [0.02525027 0.02519977 0.02504887 ... 0.02479938 0.02504887 0.02519977]\n",
            " [0.02522502 0.02517467 0.02502422 ... 0.02477547 0.02502422 0.02517467]\n",
            " [0.02522502 0.02517467 0.02502422 ... 0.02477547 0.02502422 0.02517467]]\n",
            "[[1.         0.         0.         ... 0.         0.         0.        ]\n",
            " [0.5        0.25       0.25       ... 0.         0.         0.        ]\n",
            " [0.5        0.25       0.25       ... 0.         0.         0.        ]\n",
            " ...\n",
            " [0.01567099 0.02027495 0.02673803 ... 0.00333337 0.00222224 0.00222224]\n",
            " [0.01567099 0.02027494 0.02673803 ... 0.00333337 0.00222224 0.00222224]\n",
            " [0.01567099 0.02027494 0.02673803 ... 0.00333337 0.00222224 0.00222224]]\n",
            "[[1.         0.         0.         ... 0.         0.         0.        ]\n",
            " [0.5        0.25       0.         ... 0.         0.         0.        ]\n",
            " [0.5        0.25       0.         ... 0.         0.         0.        ]\n",
            " ...\n",
            " [0.00557108 0.00835596 0.00835406 ... 0.00831262 0.00831072 0.00554004]\n",
            " [0.00557086 0.00835563 0.00835376 ... 0.00831291 0.00831105 0.00554026]\n",
            " [0.00557086 0.00835563 0.00835376 ... 0.00831291 0.00831105 0.00554026]]\n"
          ]
        }
      ]
    },
    {
      "cell_type": "code",
      "source": [
        "# computar a diferença entre a distribuição estacionária e o passeio aleatório de cada grafo\n",
        "diferenca_anel = []\n",
        "diferenca_arvore = []\n",
        "diferenca_grid = []\n",
        "for i in range(t_passos):\n",
        "  diferenca_anel.append(np.sum(np.abs(pi_anel-passeio_anel[i]))/2)\n",
        "  diferenca_arvore.append(np.sum(np.abs(pi_arvore-passeio_arvore[i]))/2)\n",
        "  diferenca_grid.append(np.sum(np.abs(pi_grid-passeio_grid[i]))/2)"
      ],
      "metadata": {
        "id": "Ptu2Ml7mdEYG"
      },
      "execution_count": 10,
      "outputs": []
    },
    {
      "cell_type": "code",
      "source": [
        "# plotar os graficos das diferenças\n",
        "\n",
        "plt.plot(diferenca_anel, label=\"Grafo em Anel\", color='r')\n",
        "plt.plot(diferenca_arvore, label=\"Grafo em Arvore\", color='b')\n",
        "plt.plot(diferenca_grid, label=\"Grafo em Grid\", color='g')\n",
        "plt.legend()\n",
        "plt.loglog()"
      ],
      "metadata": {
        "colab": {
          "base_uri": "https://localhost:8080/",
          "height": 286
        },
        "id": "MdOA08Kldg9O",
        "outputId": "a3a57660-6b87-43e0-dd66-88cdccc0e032"
      },
      "execution_count": 11,
      "outputs": [
        {
          "output_type": "execute_result",
          "data": {
            "text/plain": [
              "[]"
            ]
          },
          "metadata": {},
          "execution_count": 11
        },
        {
          "output_type": "display_data",
          "data": {
            "text/plain": [
              "<Figure size 432x288 with 1 Axes>"
            ],
            "image/png": "[encoded data removed]"
          },
          "metadata": {
            "needs_background": "light"
          }
        }
      ]
    },
    {
      "cell_type": "markdown",
      "source": [
        "# Questão 3"
      ],
      "metadata": {
        "id": "uLDx3jWGw7TW"
      }
    },
    {
      "cell_type": "code",
      "source": [
        "def computar_pi_sigma(M): # computa a distribuição estacionária e o vão espectral para uma dada matriz P\n",
        "    autovalores,autovetores = np.linalg.eig(M.T)\n",
        "    autovalores,autovetores = np.abs(autovalores), np.abs(autovetores)\n",
        "    posicao_lambda_1 = np.argmax(autovalores)\n",
        "    pi = np.real(autovetores[:,posicao_lambda_1])/np.sum(np.abs(autovetores[:,posicao_lambda_1]))\n",
        "    sigma = 1 - np.sort(np.abs(np.linalg.eigvals(M)))[-2]\n",
        "    return pi, sigma\n",
        "\n",
        "def computar_cadeia_markov_nasc_morte(n, p, e):\n",
        "  P = np.zeros((n,n)) # matriz de transição de probabilidade\n",
        "  for i in range(n):\n",
        "    for j in range(n):\n",
        "      if j==0:\n",
        "        P[i][j] = (1-p)\n",
        "      if j==i+1:\n",
        "        P[i][j] = p\n",
        "      if j==n-1 and i==n-1:\n",
        "        P[i][j] = p\n",
        "  print('\\033[1m'+\"Resultados para p =\",p,'\\033[0m \\n')\n",
        "  print(\"Matriz P de transição de probabilidade: \\n\",P)\n",
        "  pi,sigma = computar_pi_sigma(P)\n",
        "  print(\"Distribuição estacionária pi: \\n\",pi)\n",
        "  print(\"Vão espectral: \\n\",sigma)\n",
        "  menor_prob_pi = np.min(pi)\n",
        "  print(\"Estado de menor probabilidade: \\n\", np.argmin(pi)+1)\n",
        "  print(\"Limitantes para o tempo de mistura: \\n\", \n",
        "        (1/sigma -1)*np.log(1/(2*e)) , \"<= t <=\", np.log(1/(menor_prob_pi*e))/sigma)\n",
        "  print(\"-=-\"*30)\n",
        "\n",
        "n = 10 # numero de estados\n",
        "e = 10**(-6) # epsilon\n",
        "computar_cadeia_markov_nasc_morte(n,1/4,e)\n",
        "computar_cadeia_markov_nasc_morte(n,1/2,e)\n",
        "computar_cadeia_markov_nasc_morte(n,3/4,e)"
      ],
      "metadata": {
        "id": "sfJF-4MASNBB",
        "colab": {
          "base_uri": "https://localhost:8080/"
        },
        "outputId": "d3b1b32f-6c72-444f-863f-faeb06ae4a6d"
      },
      "execution_count": 12,
      "outputs": [
        {
          "output_type": "stream",
          "name": "stdout",
          "text": [
            "\u001b[1mResultados para p = 0.25 \u001b[0m \n",
            "\n",
            "Matriz P de transição de probabilidade: \n",
            " [[0.75 0.25 0.   0.   0.   0.   0.   0.   0.   0.  ]\n",
            " [0.75 0.   0.25 0.   0.   0.   0.   0.   0.   0.  ]\n",
            " [0.75 0.   0.   0.25 0.   0.   0.   0.   0.   0.  ]\n",
            " [0.75 0.   0.   0.   0.25 0.   0.   0.   0.   0.  ]\n",
            " [0.75 0.   0.   0.   0.   0.25 0.   0.   0.   0.  ]\n",
            " [0.75 0.   0.   0.   0.   0.   0.25 0.   0.   0.  ]\n",
            " [0.75 0.   0.   0.   0.   0.   0.   0.25 0.   0.  ]\n",
            " [0.75 0.   0.   0.   0.   0.   0.   0.   0.25 0.  ]\n",
            " [0.75 0.   0.   0.   0.   0.   0.   0.   0.   0.25]\n",
            " [0.75 0.   0.   0.   0.   0.   0.   0.   0.   0.25]]\n",
            "Distribuição estacionária pi: \n",
            " [7.50000000e-01 1.87500000e-01 4.68750000e-02 1.17187500e-02\n",
            " 2.92968750e-03 7.32421875e-04 1.83105469e-04 4.57763672e-05\n",
            " 1.14440918e-05 3.81469727e-06]\n",
            "Vão espectral: \n",
            " 0.9986182081232499\n",
            "Estado de menor probabilidade: \n",
            " 10\n",
            "Limitantes para o tempo de mistura: \n",
            " 0.01815746495624088 <= t <= 26.32854037122921\n",
            "-=--=--=--=--=--=--=--=--=--=--=--=--=--=--=--=--=--=--=--=--=--=--=--=--=--=--=--=--=--=-\n",
            "\u001b[1mResultados para p = 0.5 \u001b[0m \n",
            "\n",
            "Matriz P de transição de probabilidade: \n",
            " [[0.5 0.5 0.  0.  0.  0.  0.  0.  0.  0. ]\n",
            " [0.5 0.  0.5 0.  0.  0.  0.  0.  0.  0. ]\n",
            " [0.5 0.  0.  0.5 0.  0.  0.  0.  0.  0. ]\n",
            " [0.5 0.  0.  0.  0.5 0.  0.  0.  0.  0. ]\n",
            " [0.5 0.  0.  0.  0.  0.5 0.  0.  0.  0. ]\n",
            " [0.5 0.  0.  0.  0.  0.  0.5 0.  0.  0. ]\n",
            " [0.5 0.  0.  0.  0.  0.  0.  0.5 0.  0. ]\n",
            " [0.5 0.  0.  0.  0.  0.  0.  0.  0.5 0. ]\n",
            " [0.5 0.  0.  0.  0.  0.  0.  0.  0.  0.5]\n",
            " [0.5 0.  0.  0.  0.  0.  0.  0.  0.  0.5]]\n",
            "Distribuição estacionária pi: \n",
            " [0.5        0.25       0.125      0.0625     0.03125    0.015625\n",
            " 0.0078125  0.00390625 0.00195312 0.00195313]\n",
            "Vão espectral: \n",
            " 0.9995794503283978\n",
            "Estado de menor probabilidade: \n",
            " 9\n",
            "Limitantes para o tempo de mistura: \n",
            " 0.005520927433232578 <= t <= 20.062272365058526\n",
            "-=--=--=--=--=--=--=--=--=--=--=--=--=--=--=--=--=--=--=--=--=--=--=--=--=--=--=--=--=--=-\n",
            "\u001b[1mResultados para p = 0.75 \u001b[0m \n",
            "\n",
            "Matriz P de transição de probabilidade: \n",
            " [[0.25 0.75 0.   0.   0.   0.   0.   0.   0.   0.  ]\n",
            " [0.25 0.   0.75 0.   0.   0.   0.   0.   0.   0.  ]\n",
            " [0.25 0.   0.   0.75 0.   0.   0.   0.   0.   0.  ]\n",
            " [0.25 0.   0.   0.   0.75 0.   0.   0.   0.   0.  ]\n",
            " [0.25 0.   0.   0.   0.   0.75 0.   0.   0.   0.  ]\n",
            " [0.25 0.   0.   0.   0.   0.   0.75 0.   0.   0.  ]\n",
            " [0.25 0.   0.   0.   0.   0.   0.   0.75 0.   0.  ]\n",
            " [0.25 0.   0.   0.   0.   0.   0.   0.   0.75 0.  ]\n",
            " [0.25 0.   0.   0.   0.   0.   0.   0.   0.   0.75]\n",
            " [0.25 0.   0.   0.   0.   0.   0.   0.   0.   0.75]]\n",
            "Distribuição estacionária pi: \n",
            " [0.25       0.1875     0.140625   0.10546875 0.07910156 0.05932617\n",
            " 0.04449463 0.03337097 0.02502823 0.07508469]\n",
            "Vão espectral: \n",
            " 0.9999495691139137\n",
            "Estado de menor probabilidade: \n",
            " 9\n",
            "Limitantes para o tempo de mistura: \n",
            " 0.0006618057881213857 <= t <= 17.504144248203023\n",
            "-=--=--=--=--=--=--=--=--=--=--=--=--=--=--=--=--=--=--=--=--=--=--=--=--=--=--=--=--=--=-\n"
          ]
        }
      ]
    },
    {
      "cell_type": "markdown",
      "source": [
        "# Questão 4"
      ],
      "metadata": {
        "id": "Kolr6MZvSPt3"
      }
    },
    {
      "cell_type": "code",
      "source": [
        "def passo_cadeia_markov_latice(x,y,p):\n",
        "  p_ne = p/2 # probabilidade de ir pro norte ou leste\n",
        "  p_n = p_ne/2 # probabilidade de ir pro norte\n",
        "  p_e = p_n # probabilidade de ir pro leste\n",
        "  p_so = (1-p)/2 # probabilidade de ir pro sul ou oeste quando há somente uma dessas possibilidades\n",
        "  p_s = p_so/2 # probabilidade de ir pro sul quando há também a possibilidade de ir pra oeste\n",
        "  p_o = p_s # probabilidade de ir pro sul quando há também a possibilidade de ir pra oeste\n",
        "  u = np.random.uniform() # escolhe uniforme entre 0 e 1, e com base no valor obtido e nas possibilidades de movimento, decide se permanece no mesmo lugar, ou se move em algum sentido\n",
        "\n",
        "  if x==1 and y==1: # só pode andar pro norte ou leste\n",
        "    if u<p_n: # anda pro norte\n",
        "      return x,y+1\n",
        "    elif u<2*p_e: # anda pro leste\n",
        "      return x+1,y\n",
        "    else:\n",
        "      return x,y\n",
        "  elif x==1 and y>1: # pode andar pro norte, sul e leste\n",
        "    if u<p_n: # anda pro norte\n",
        "      return x+1,y\n",
        "    elif u<p_n+p_e: # anda pro leste\n",
        "      return x,y+1\n",
        "    elif u<p_n+p_e+p_so: # anda pro sul\n",
        "      return x,y-1\n",
        "    else:\n",
        "      return x,y\n",
        "  elif x>1 and y==1: # pode andar pro norte, leste e oeste\n",
        "    if u<p_n: # anda pro norte\n",
        "      return x,y+1\n",
        "    elif u<p_n+p_e: # anda pro leste\n",
        "      return x+1,y\n",
        "    elif u<p_n+p_e+p_so: # anda pro oeste\n",
        "      return x-1,y\n",
        "    else:\n",
        "      return x,y\n",
        "  else:\n",
        "    if u<p_n: # anda pro norte\n",
        "      return x,y+1\n",
        "    elif u<p_n+p_e: # anda pro leste\n",
        "      return x+1,y\n",
        "    elif u<p_n+p_e+p_s: # anda pro sul \n",
        "      return x,y-1\n",
        "    elif u<p_n+p_s+p_e+p_o: # anda pro oeste\n",
        "      return x-1,y\n",
        "    else:\n",
        "      return x,y"
      ],
      "metadata": {
        "id": "dlq6fNpFSQ6P"
      },
      "execution_count": 13,
      "outputs": []
    },
    {
      "cell_type": "code",
      "source": [
        "def estimar_pi_1_1(p,n):\n",
        "  x = 1 # valor de x inicial\n",
        "  y = 1 # valor de y inicial\n",
        "  c = 0 # frequencia de visitas em pi (1,1)\n",
        "  for i in range(n):\n",
        "    x, y = passo_cadeia_markov_latice(x,y,p)\n",
        "    if (x,y) == (1,1):\n",
        "      c+=1\n",
        "  return c/n\n",
        "\n",
        "n=10**6\n",
        "pis = []\n",
        "ps = [0.25, 0.35, 0.45]\n",
        "for p in ps:\n",
        "  pis.append(estimar_pi_1_1(p,n))\n",
        "\n",
        "for (p,pi) in zip(ps,pis):\n",
        "  print(f\"Estimativa de pi(1,1) para p={p}: {pi}\")\n",
        "  print(\"-=-\"*30)"
      ],
      "metadata": {
        "colab": {
          "base_uri": "https://localhost:8080/"
        },
        "id": "bdxEdiXKKQ7y",
        "outputId": "be3ca195-31b6-47ab-f897-e7e1f96dd913"
      },
      "execution_count": 14,
      "outputs": [
        {
          "output_type": "stream",
          "name": "stdout",
          "text": [
            "Estimativa de pi(1,1) para p=0.25: 0.666769\n",
            "-=--=--=--=--=--=--=--=--=--=--=--=--=--=--=--=--=--=--=--=--=--=--=--=--=--=--=--=--=--=-\n",
            "Estimativa de pi(1,1) para p=0.35: 0.461903\n",
            "-=--=--=--=--=--=--=--=--=--=--=--=--=--=--=--=--=--=--=--=--=--=--=--=--=--=--=--=--=--=-\n",
            "Estimativa de pi(1,1) para p=0.45: 0.183472\n",
            "-=--=--=--=--=--=--=--=--=--=--=--=--=--=--=--=--=--=--=--=--=--=--=--=--=--=--=--=--=--=-\n"
          ]
        }
      ]
    },
    {
      "cell_type": "code",
      "source": [
        "def estimar_distancia_Manhattan(p,n):\n",
        "  x = 1 # valor de x inicial\n",
        "  y = 1 # valor de y inicial\n",
        "  d = 0 # distancia acumulada\n",
        "  for _ in range(n):\n",
        "    x,y = passo_cadeia_markov_latice(x,y,p)\n",
        "    d += x-1+y-1\n",
        "  return d/n\n",
        "ps = [0.25, 0.35, 0.45]\n",
        "ns = [10,100,1000]\n",
        "\n",
        "for prob in ps:\n",
        "  for num in ns:\n",
        "    d = estimar_distancia_Manhattan(prob,num)\n",
        "    print(f\"Estimativa da distância de Manhattan para p={prob} e n={num}: {d}\")\n",
        "  print(\"-=-\"*30)"
      ],
      "metadata": {
        "colab": {
          "base_uri": "https://localhost:8080/"
        },
        "id": "A51FZ8HGL3g6",
        "outputId": "b394ef0d-c2d2-4210-eafc-0c998f68d3df"
      },
      "execution_count": 25,
      "outputs": [
        {
          "output_type": "stream",
          "name": "stdout",
          "text": [
            "Estimativa da distância de Manhattan para p=0.25 e n=10: 0.1\n",
            "Estimativa da distância de Manhattan para p=0.25 e n=100: 0.31\n",
            "Estimativa da distância de Manhattan para p=0.25 e n=1000: 0.438\n",
            "-=--=--=--=--=--=--=--=--=--=--=--=--=--=--=--=--=--=--=--=--=--=--=--=--=--=--=--=--=--=-\n",
            "Estimativa da distância de Manhattan para p=0.35 e n=10: 0.1\n",
            "Estimativa da distância de Manhattan para p=0.35 e n=100: 0.84\n",
            "Estimativa da distância de Manhattan para p=0.35 e n=1000: 1.21\n",
            "-=--=--=--=--=--=--=--=--=--=--=--=--=--=--=--=--=--=--=--=--=--=--=--=--=--=--=--=--=--=-\n",
            "Estimativa da distância de Manhattan para p=0.45 e n=10: 0.1\n",
            "Estimativa da distância de Manhattan para p=0.45 e n=100: 5.49\n",
            "Estimativa da distância de Manhattan para p=0.45 e n=1000: 3.967\n",
            "-=--=--=--=--=--=--=--=--=--=--=--=--=--=--=--=--=--=--=--=--=--=--=--=--=--=--=--=--=--=-\n"
          ]
        }
      ]
    }
  ]
}